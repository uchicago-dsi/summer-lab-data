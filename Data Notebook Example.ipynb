{
 "cells": [
  {
   "cell_type": "code",
   "execution_count": 1,
   "id": "c58eb32a",
   "metadata": {
    "scrolled": true
   },
   "outputs": [],
   "source": [
    "import os\n",
    "os.environ['USE_PYGEOS'] = '0'\n",
    "\n",
    "import geopandas as gpd\n",
    "from download import download_files, data_help, file_list"
   ]
  },
  {
   "cell_type": "code",
   "execution_count": 3,
   "id": "59cc3df9",
   "metadata": {
    "scrolled": true
   },
   "outputs": [
    {
     "name": "stderr",
     "output_type": "stream",
     "text": [
      "100%|█████████████████████████████████████████████████████████████████████████████████████████████████████████████████████████████████████████████████████████████████████████████| 4/4 [00:12<00:00,  3.17s/it]\n"
     ]
    },
    {
     "data": {
      "text/markdown": [
       "Files downloaded: states.gpkg, counties.gpkg, tracts.gpkg, zcta.gpkg"
      ],
      "text/plain": [
       "<IPython.core.display.Markdown object>"
      ]
     },
     "metadata": {},
     "output_type": "display_data"
    }
   ],
   "source": [
    "download_files()"
   ]
  },
  {
   "cell_type": "code",
   "execution_count": 6,
   "id": "81178f16",
   "metadata": {},
   "outputs": [
    {
     "data": {
      "text/markdown": [
       "# 2019 Census Tracts GeoData\n",
       "\n",
       "- Coastline Clipped\n",
       "- Source: Social Explorer\n"
      ],
      "text/plain": [
       "<IPython.core.display.Markdown object>"
      ]
     },
     "metadata": {},
     "output_type": "display_data"
    }
   ],
   "source": [
    "data_help('tracts.gpkg')"
   ]
  },
  {
   "cell_type": "code",
   "execution_count": 21,
   "id": "319891ac",
   "metadata": {},
   "outputs": [],
   "source": [
    "# get the file path\n",
    "tracts_file = file_list['tracts.gpkg']\n",
    "# read in the file\n",
    "gdf = gpd.read_file(tracts_file)"
   ]
  },
  {
   "cell_type": "code",
   "execution_count": null,
   "id": "a0952157",
   "metadata": {},
   "outputs": [],
   "source": []
  }
 ],
 "metadata": {
  "kernelspec": {
   "display_name": "Python 3 (ipykernel)",
   "language": "python",
   "name": "python3"
  },
  "language_info": {
   "codemirror_mode": {
    "name": "ipython",
    "version": 3
   },
   "file_extension": ".py",
   "mimetype": "text/x-python",
   "name": "python",
   "nbconvert_exporter": "python",
   "pygments_lexer": "ipython3",
   "version": "3.9.16"
  }
 },
 "nbformat": 4,
 "nbformat_minor": 5
}
