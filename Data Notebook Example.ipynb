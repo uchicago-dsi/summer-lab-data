{
 "cells": [
  {
   "cell_type": "code",
   "execution_count": 1,
   "id": "c58eb32a",
   "metadata": {},
   "outputs": [],
   "source": [
    "from download import download_files, data_help, file_list"
   ]
  },
  {
   "cell_type": "code",
   "execution_count": 2,
   "id": "59cc3df9",
   "metadata": {},
   "outputs": [
    {
     "name": "stderr",
     "output_type": "stream",
     "text": [
      "100%|█████████████████████████████████████████████████████████████████████████████████████████████████████████████████████████████████████████████████████████████████████████████████████| 4/4 [00:12<00:00,  3.02s/it]\n"
     ]
    },
    {
     "data": {
      "text/markdown": [
       "Files downloaded: states.gpkg, counties.gpkg, tracts.gpkg, zcta.gpkg"
      ],
      "text/plain": [
       "<IPython.core.display.Markdown object>"
      ]
     },
     "metadata": {},
     "output_type": "display_data"
    }
   ],
   "source": [
    "download_files()"
   ]
  },
  {
   "cell_type": "code",
   "execution_count": 9,
   "id": "ebdd5492",
   "metadata": {},
   "outputs": [
    {
     "data": {
      "text/markdown": [
       "# 2019 Counties Geospatial Data (counties.gpkg)\n",
       "\n",
       "This geospatial data file\n",
       "\n",
       "## Data Dictionary\n",
       "\n",
       "| Column Name | Description                                                         | Data Type       |\n",
       "|-------------|---------------------------------------------------------------------|-----------------|\n",
       "| REGION      | The region code where the county is located                          | Text            |\n",
       "| DIVISION    | The division code within the region where the county is located      | Text            |\n",
       "| Geo_FIPS    | The Federal Information Processing Standards (FIPS) code             | Text            |\n",
       "| STATENS     | The unique identifier for the county                                 | Text            |\n",
       "| GEOID       | The unique identifier for the county within the geographic database | Text            |\n",
       "| STUSPS      | The two-letter postal abbreviation for the state                     | Text            |\n",
       "| Geo_QNAME   | The complete name of the county, including state name                | Text            |\n",
       "| LSAD        | Legal/Statistical Area Description code indicating county type       | Text            |\n",
       "| MTFCC       | MAF/TIGER Feature Class Code                                        | Text            |\n",
       "| FUNCSTAT    | Functional Status code indicating county status                      | Text            |\n",
       "| ALAND       | Land area in square meters for the county                            | Numeric         |\n",
       "| AWATER      | Water area in square meters for the county                           | Numeric         |\n",
       "| INTPTLAT    | Latitude coordinate for the interior point of the county             | Numeric         |\n",
       "| INTPTLON    | Longitude coordinate for the interior point of the county            | Numeric         |\n",
       "| geometry    | Geometric representation of the county's boundaries                  | Geometric data type (e.g., Polygon, MultiPolygon) |"
      ],
      "text/plain": [
       "<IPython.core.display.Markdown object>"
      ]
     },
     "metadata": {},
     "output_type": "display_data"
    }
   ],
   "source": [
    "data_help('counties.gpkg')"
   ]
  },
  {
   "cell_type": "code",
   "execution_count": 7,
   "id": "1a3d8bf4",
   "metadata": {},
   "outputs": [
    {
     "data": {
      "text/plain": [
       "'/Users/dylanhalpern/Documents/GitHub/summer-lab-data/__data__/states.gpkg'"
      ]
     },
     "execution_count": 7,
     "metadata": {},
     "output_type": "execute_result"
    }
   ],
   "source": [
    "file_list['states.gpkg']"
   ]
  },
  {
   "cell_type": "code",
   "execution_count": 3,
   "id": "e9f1e33c",
   "metadata": {},
   "outputs": [],
   "source": [
    "import os\n",
    "os.environ['USE_PYGEOS'] = '0'\n",
    "import geopandas as gpd"
   ]
  },
  {
   "cell_type": "code",
   "execution_count": 4,
   "id": "226d83a0",
   "metadata": {},
   "outputs": [],
   "source": [
    "test = gpd.read_file(file_list['states.gpkg'])"
   ]
  },
  {
   "cell_type": "code",
   "execution_count": 10,
   "id": "2d69f03a",
   "metadata": {},
   "outputs": [
    {
     "data": {
      "text/html": [
       "<div>\n",
       "<style scoped>\n",
       "    .dataframe tbody tr th:only-of-type {\n",
       "        vertical-align: middle;\n",
       "    }\n",
       "\n",
       "    .dataframe tbody tr th {\n",
       "        vertical-align: top;\n",
       "    }\n",
       "\n",
       "    .dataframe thead th {\n",
       "        text-align: right;\n",
       "    }\n",
       "</style>\n",
       "<table border=\"1\" class=\"dataframe\">\n",
       "  <thead>\n",
       "    <tr style=\"text-align: right;\">\n",
       "      <th></th>\n",
       "      <th>REGION</th>\n",
       "      <th>DIVISION</th>\n",
       "      <th>Geo_FIPS</th>\n",
       "      <th>STATENS</th>\n",
       "      <th>GEOID</th>\n",
       "      <th>STUSPS</th>\n",
       "      <th>Geo_QNAME</th>\n",
       "      <th>LSAD</th>\n",
       "      <th>MTFCC</th>\n",
       "      <th>FUNCSTAT</th>\n",
       "      <th>ALAND</th>\n",
       "      <th>AWATER</th>\n",
       "      <th>INTPTLAT</th>\n",
       "      <th>INTPTLON</th>\n",
       "      <th>geometry</th>\n",
       "    </tr>\n",
       "  </thead>\n",
       "  <tbody>\n",
       "    <tr>\n",
       "      <th>0</th>\n",
       "      <td>9</td>\n",
       "      <td>0</td>\n",
       "      <td>60</td>\n",
       "      <td>01802701</td>\n",
       "      <td>60</td>\n",
       "      <td>AS</td>\n",
       "      <td>American Samoa</td>\n",
       "      <td>00</td>\n",
       "      <td>G4000</td>\n",
       "      <td>A</td>\n",
       "      <td>197759069</td>\n",
       "      <td>1307243751</td>\n",
       "      <td>-14.2671590</td>\n",
       "      <td>-170.6682674</td>\n",
       "      <td>MULTIPOLYGON (((-168.14488 -14.54537, -168.143...</td>\n",
       "    </tr>\n",
       "    <tr>\n",
       "      <th>1</th>\n",
       "      <td>4</td>\n",
       "      <td>9</td>\n",
       "      <td>15</td>\n",
       "      <td>01779782</td>\n",
       "      <td>15</td>\n",
       "      <td>HI</td>\n",
       "      <td>Hawaii</td>\n",
       "      <td>00</td>\n",
       "      <td>G4000</td>\n",
       "      <td>A</td>\n",
       "      <td>16634006436</td>\n",
       "      <td>11777792811</td>\n",
       "      <td>+19.5977643</td>\n",
       "      <td>-155.5024434</td>\n",
       "      <td>MULTIPOLYGON (((-155.85049 20.26845, -155.8472...</td>\n",
       "    </tr>\n",
       "    <tr>\n",
       "      <th>2</th>\n",
       "      <td>4</td>\n",
       "      <td>8</td>\n",
       "      <td>04</td>\n",
       "      <td>01779777</td>\n",
       "      <td>04</td>\n",
       "      <td>AZ</td>\n",
       "      <td>Arizona</td>\n",
       "      <td>00</td>\n",
       "      <td>G4000</td>\n",
       "      <td>A</td>\n",
       "      <td>294360282618</td>\n",
       "      <td>859561204</td>\n",
       "      <td>+34.2039355</td>\n",
       "      <td>-111.6063565</td>\n",
       "      <td>MULTIPOLYGON (((-112.50381 31.78372, -113.1553...</td>\n",
       "    </tr>\n",
       "    <tr>\n",
       "      <th>3</th>\n",
       "      <td>4</td>\n",
       "      <td>8</td>\n",
       "      <td>35</td>\n",
       "      <td>00897535</td>\n",
       "      <td>35</td>\n",
       "      <td>NM</td>\n",
       "      <td>New Mexico</td>\n",
       "      <td>00</td>\n",
       "      <td>G4000</td>\n",
       "      <td>A</td>\n",
       "      <td>314197253999</td>\n",
       "      <td>727781442</td>\n",
       "      <td>+34.4346843</td>\n",
       "      <td>-106.1316181</td>\n",
       "      <td>MULTIPOLYGON (((-109.04894 31.96409, -109.0453...</td>\n",
       "    </tr>\n",
       "    <tr>\n",
       "      <th>4</th>\n",
       "      <td>3</td>\n",
       "      <td>7</td>\n",
       "      <td>48</td>\n",
       "      <td>01779801</td>\n",
       "      <td>48</td>\n",
       "      <td>TX</td>\n",
       "      <td>Texas</td>\n",
       "      <td>00</td>\n",
       "      <td>G4000</td>\n",
       "      <td>A</td>\n",
       "      <td>676668210823</td>\n",
       "      <td>18991880422</td>\n",
       "      <td>+31.4347032</td>\n",
       "      <td>-099.2818238</td>\n",
       "      <td>MULTIPOLYGON (((-101.25286 29.52050, -101.2548...</td>\n",
       "    </tr>\n",
       "  </tbody>\n",
       "</table>\n",
       "</div>"
      ],
      "text/plain": [
       "  REGION DIVISION Geo_FIPS   STATENS GEOID STUSPS       Geo_QNAME LSAD  MTFCC  \\\n",
       "0      9        0       60  01802701    60     AS  American Samoa   00  G4000   \n",
       "1      4        9       15  01779782    15     HI          Hawaii   00  G4000   \n",
       "2      4        8       04  01779777    04     AZ         Arizona   00  G4000   \n",
       "3      4        8       35  00897535    35     NM      New Mexico   00  G4000   \n",
       "4      3        7       48  01779801    48     TX           Texas   00  G4000   \n",
       "\n",
       "  FUNCSTAT         ALAND       AWATER     INTPTLAT      INTPTLON  \\\n",
       "0        A     197759069   1307243751  -14.2671590  -170.6682674   \n",
       "1        A   16634006436  11777792811  +19.5977643  -155.5024434   \n",
       "2        A  294360282618    859561204  +34.2039355  -111.6063565   \n",
       "3        A  314197253999    727781442  +34.4346843  -106.1316181   \n",
       "4        A  676668210823  18991880422  +31.4347032  -099.2818238   \n",
       "\n",
       "                                            geometry  \n",
       "0  MULTIPOLYGON (((-168.14488 -14.54537, -168.143...  \n",
       "1  MULTIPOLYGON (((-155.85049 20.26845, -155.8472...  \n",
       "2  MULTIPOLYGON (((-112.50381 31.78372, -113.1553...  \n",
       "3  MULTIPOLYGON (((-109.04894 31.96409, -109.0453...  \n",
       "4  MULTIPOLYGON (((-101.25286 29.52050, -101.2548...  "
      ]
     },
     "execution_count": 10,
     "metadata": {},
     "output_type": "execute_result"
    }
   ],
   "source": [
    "test.head()"
   ]
  },
  {
   "cell_type": "code",
   "execution_count": null,
   "id": "81b779bc",
   "metadata": {},
   "outputs": [],
   "source": []
  }
 ],
 "metadata": {
  "kernelspec": {
   "display_name": "Python 3 (ipykernel)",
   "language": "python",
   "name": "python3"
  },
  "language_info": {
   "codemirror_mode": {
    "name": "ipython",
    "version": 3
   },
   "file_extension": ".py",
   "mimetype": "text/x-python",
   "name": "python",
   "nbconvert_exporter": "python",
   "pygments_lexer": "ipython3",
   "version": "3.9.16"
  }
 },
 "nbformat": 4,
 "nbformat_minor": 5
}
