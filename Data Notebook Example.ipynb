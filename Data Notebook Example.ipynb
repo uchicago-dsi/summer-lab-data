{
 "cells": [
  {
   "cell_type": "code",
   "execution_count": 1,
   "id": "c58eb32a",
   "metadata": {},
   "outputs": [],
   "source": [
    "from download import download_files, data_help, file_list"
   ]
  },
  {
   "cell_type": "code",
   "execution_count": 2,
   "id": "59cc3df9",
   "metadata": {},
   "outputs": [
    {
     "name": "stderr",
     "output_type": "stream",
     "text": [
      "100%|█████████████████████████████████████████████████████████████████████████████████████████████████████████████████████████████████████████████████████████████████████████████████████| 4/4 [00:12<00:00,  3.02s/it]\n"
     ]
    },
    {
     "data": {
      "text/markdown": [
       "Files downloaded: states.gpkg, counties.gpkg, tracts.gpkg, zcta.gpkg"
      ],
      "text/plain": [
       "<IPython.core.display.Markdown object>"
      ]
     },
     "metadata": {},
     "output_type": "display_data"
    }
   ],
   "source": [
    "download_files()"
   ]
  },
  {
   "cell_type": "code",
   "execution_count": 5,
   "id": "edbf7fe4",
   "metadata": {},
   "outputs": [
    {
     "data": {
      "text/markdown": [
       "# 2019 Census Tracts GeoData\n",
       "\n",
       "- Coastline Clipped\n",
       "- Source: Social Explorer\n"
      ],
      "text/plain": [
       "<IPython.core.display.Markdown object>"
      ]
     },
     "metadata": {},
     "output_type": "display_data"
    }
   ],
   "source": [
    "data_help('tracts.gpkg')"
   ]
  },
  {
   "cell_type": "code",
   "execution_count": 7,
   "id": "fd511f18",
   "metadata": {},
   "outputs": [
    {
     "data": {
      "text/plain": [
       "'/Users/dylanhalpern/Documents/GitHub/summer-lab-data/__data__/states.gpkg'"
      ]
     },
     "execution_count": 7,
     "metadata": {},
     "output_type": "execute_result"
    }
   ],
   "source": [
    "file_list['states.gpkg']"
   ]
  },
  {
   "cell_type": "code",
   "execution_count": 3,
   "id": "1a494b21",
   "metadata": {},
   "outputs": [],
   "source": [
    "import os\n",
    "os.environ['USE_PYGEOS'] = '0'\n",
    "import geopandas as gpd"
   ]
  },
  {
   "cell_type": "code",
   "execution_count": 4,
   "id": "226d83a0",
   "metadata": {},
   "outputs": [],
   "source": [
    "test = gpd.read_file(file_list['states.gpkg'])"
   ]
  },
  {
   "cell_type": "code",
   "execution_count": 8,
   "id": "8979c614",
   "metadata": {},
   "outputs": [
    {
     "data": {
      "text/plain": [
       "Index(['REGION', 'DIVISION', 'Geo_FIPS', 'STATENS', 'GEOID', 'STUSPS',\n",
       "       'Geo_QNAME', 'LSAD', 'MTFCC', 'FUNCSTAT', 'ALAND', 'AWATER', 'INTPTLAT',\n",
       "       'INTPTLON', 'geometry'],\n",
       "      dtype='object')"
      ]
     },
     "execution_count": 8,
     "metadata": {},
     "output_type": "execute_result"
    }
   ],
   "source": [
    "test.columns"
   ]
  },
  {
   "cell_type": "code",
   "execution_count": null,
   "id": "69945b92",
   "metadata": {},
   "outputs": [],
   "source": []
  }
 ],
 "metadata": {
  "kernelspec": {
   "display_name": "Python 3 (ipykernel)",
   "language": "python",
   "name": "python3"
  },
  "language_info": {
   "codemirror_mode": {
    "name": "ipython",
    "version": 3
   },
   "file_extension": ".py",
   "mimetype": "text/x-python",
   "name": "python",
   "nbconvert_exporter": "python",
   "pygments_lexer": "ipython3",
   "version": "3.9.16"
  }
 },
 "nbformat": 4,
 "nbformat_minor": 5
}
